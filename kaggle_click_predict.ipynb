{
 "cells": [
  {
   "cell_type": "code",
   "execution_count": 1,
   "metadata": {
    "collapsed": false
   },
   "outputs": [],
   "source": [
    "import pandas as pd\n",
    "from sqlalchemy import create_engine"
   ]
  },
  {
   "cell_type": "code",
   "execution_count": 2,
   "metadata": {
    "collapsed": false
   },
   "outputs": [
    {
     "data": {
      "text/plain": [
       "['/Users/max/Downloads/documents_categories.csv',\n",
       " '/Users/max/Downloads/clicks_test.csv',\n",
       " '/Users/max/Downloads/documents_meta.csv',\n",
       " '/Users/max/Downloads/documents_entities.csv',\n",
       " '/Users/max/Downloads/promoted_content.csv',\n",
       " '/Users/max/Downloads/sample_submission.csv',\n",
       " '/Users/max/Downloads/documents_topics.csv',\n",
       " '/Users/max/Downloads/clicks_train.csv',\n",
       " '/Users/max/Downloads/events.csv',\n",
       " '/Users/max/Downloads/page_views_sample.csv']"
      ]
     },
     "execution_count": 2,
     "metadata": {},
     "output_type": "execute_result"
    }
   ],
   "source": [
    "csv_files = [\n",
    "    'documents_categories.csv',\n",
    "    'clicks_test.csv',\n",
    "    'documents_meta.csv',\n",
    "    'documents_entities.csv',\n",
    "    'promoted_content.csv',\n",
    "    'sample_submission.csv',\n",
    "    'documents_topics.csv',\n",
    "    'clicks_train.csv',\n",
    "    'events.csv',\n",
    "    'page_views_sample.csv'\n",
    "]\n",
    "\n",
    "csv_files = [ '/Users/max/Downloads/' + fname for fname in csv_files ]\n",
    "csv_files"
   ]
  },
  {
   "cell_type": "code",
   "execution_count": 3,
   "metadata": {
    "collapsed": false
   },
   "outputs": [
    {
     "data": {
      "text/plain": [
       "Engine(postgresql://localhost:5432/click_pred)"
      ]
     },
     "execution_count": 3,
     "metadata": {},
     "output_type": "execute_result"
    }
   ],
   "source": [
    "engine = create_engine('postgresql://localhost:5432/click_pred')    \n",
    "engine"
   ]
  },
  {
   "cell_type": "code",
   "execution_count": 14,
   "metadata": {
    "collapsed": false
   },
   "outputs": [],
   "source": [
    "import os\n",
    "\n",
    "def upload_table(path, n = None):\n",
    "    table_name = os.path.basename(path).split('.')[0]\n",
    "    print 'Document %s' % table_name\n",
    "    try:\n",
    "        df = pd.read_csv(path, nrows = n )\n",
    "        df.columns = [c.lower() for c in df.columns]\n",
    "        table_name = os.path.basename(path).split('.')[0]\n",
    "        df.to_sql(table_name, engine, if_exists='replace')\n",
    "    except ValueError:\n",
    "        print 'Document %s already exists' % table_name\n",
    "        pass    "
   ]
  },
  {
   "cell_type": "code",
   "execution_count": 15,
   "metadata": {
    "collapsed": false
   },
   "outputs": [
    {
     "name": "stdout",
     "output_type": "stream",
     "text": [
      "Document documents_categories\n",
      "Document clicks_test\n",
      "Document documents_meta\n",
      "Document documents_entities\n",
      "Document promoted_content\n",
      "Document sample_submission\n",
      "Document documents_topics\n",
      "Document clicks_train\n",
      "Document events\n",
      "Document page_views_sample\n"
     ]
    }
   ],
   "source": [
    "N_ROWS = 50000\n",
    "\n",
    "for path in csv_files:\n",
    "    upload_table(path, n = N_ROWS)\n"
   ]
  },
  {
   "cell_type": "code",
   "execution_count": null,
   "metadata": {
    "collapsed": true
   },
   "outputs": [],
   "source": []
  }
 ],
 "metadata": {
  "kernelspec": {
   "display_name": "Python 2",
   "language": "python",
   "name": "python2"
  },
  "language_info": {
   "codemirror_mode": {
    "name": "ipython",
    "version": 2
   },
   "file_extension": ".py",
   "mimetype": "text/x-python",
   "name": "python",
   "nbconvert_exporter": "python",
   "pygments_lexer": "ipython2",
   "version": "2.7.11"
  }
 },
 "nbformat": 4,
 "nbformat_minor": 0
}
